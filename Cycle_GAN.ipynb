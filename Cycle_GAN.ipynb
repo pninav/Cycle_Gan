{
  "nbformat": 4,
  "nbformat_minor": 0,
  "metadata": {
    "accelerator": "GPU",
    "colab": {
      "name": "Cycle_GAN.ipynb",
      "provenance": [],
      "collapsed_sections": [],
      "include_colab_link": true
    },
    "kernelspec": {
      "display_name": "Python 3",
      "name": "python3"
    },
    "language_info": {
      "name": "python"
    }
  },
  "cells": [
    {
      "cell_type": "markdown",
      "metadata": {
        "id": "view-in-github",
        "colab_type": "text"
      },
      "source": [
        "<a href=\"https://colab.research.google.com/github/pninav/Cycle_Gan/blob/main/Cycle_GAN.ipynb\" target=\"_parent\"><img src=\"https://colab.research.google.com/assets/colab-badge.svg\" alt=\"Open In Colab\"/></a>"
      ]
    },
    {
      "cell_type": "markdown",
      "metadata": {
        "id": "DOx3jzwHWEnB"
      },
      "source": [
        "Mounting to google-drive."
      ]
    },
    {
      "cell_type": "code",
      "metadata": {
        "id": "uiBi0qHpWDWu"
      },
      "source": [
        "from google.colab import drive\n",
        "import os\n",
        "drive.mount('/content/Pnina/')\n",
        "os.chdir('/content/Pnina/MyDrive/')"
      ],
      "execution_count": null,
      "outputs": []
    },
    {
      "cell_type": "markdown",
      "metadata": {
        "id": "dGBUAGE42hnR"
      },
      "source": [
        "Delete project folder for fresh start."
      ]
    },
    {
      "cell_type": "code",
      "metadata": {
        "id": "c_v7-5EQ2giO"
      },
      "source": [
        "import shutil\n",
        "shutil.rmtree('/content/Pnina/MyDrive/Cycle_Gan',ignore_errors=True)"
      ],
      "execution_count": null,
      "outputs": []
    },
    {
      "cell_type": "markdown",
      "metadata": {
        "id": "5whlCxjRV3pB"
      },
      "source": [
        "Cloning CycleGan project and installing requirements.\n"
      ]
    },
    {
      "cell_type": "code",
      "metadata": {
        "id": "_jYq2pVVWCgU"
      },
      "source": [
        "!git clone https://github.com/pninav/Cycle_Gan.git\n",
        "os.chdir('/content/Pnina/MyDrive/Cycle_Gan')\n",
        "!pip install -r requirements.txt\n"
      ],
      "execution_count": null,
      "outputs": []
    },
    {
      "cell_type": "markdown",
      "metadata": {
        "id": "e4FzRfuOXpuw"
      },
      "source": [
        "Download Kaggle dataset using Kaggle API. "
      ]
    },
    {
      "cell_type": "code",
      "metadata": {
        "id": "GHSWXEjUrGU1"
      },
      "source": [
        "import os\n",
        "os.chdir('/content/Pnina/MyDrive/Cycle_Gan/')\n",
        "os.environ['KAGGLE_CONFIG_DIR'] = '/content/Pnina/MyDrive/Cycle_Gan/kaggle/'\n",
        "!mkdir -p kaggle_dataset\n",
        "os.chdir('/content/Pnina/MyDrive/Cycle_Gan/kaggle_dataset')\n",
        "!kaggle competitions download -c gan-getting-started "
      ],
      "execution_count": null,
      "outputs": []
    },
    {
      "cell_type": "markdown",
      "metadata": {
        "id": "PMH0aeXnrU0K"
      },
      "source": [
        "Create Cycle_Gan folder (the GitHub files will be transferred there)."
      ]
    },
    {
      "cell_type": "code",
      "metadata": {
        "id": "B8h1H13xFfdp"
      },
      "source": [
        "os.chdir('/content/Pnina/MyDrive/Cycle_Gan/')"
      ],
      "execution_count": null,
      "outputs": []
    },
    {
      "cell_type": "markdown",
      "metadata": {
        "id": "sst1hzsSpzkS"
      },
      "source": [
        "Run the train.py notebook - Train the CycleGAN model in train mode so that the images will be extracted from the zip file and then the training will be performed."
      ]
    },
    {
      "cell_type": "code",
      "metadata": {
        "id": "HAKHPkMGhF70"
      },
      "source": [
        "!python train.py --cuda"
      ],
      "execution_count": null,
      "outputs": []
    }
  ]
}