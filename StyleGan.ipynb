{
  "nbformat": 4,
  "nbformat_minor": 0,
  "metadata": {
    "accelerator": "GPU",
    "colab": {
      "name": "StyleGan.ipynb",
      "provenance": [],
      "collapsed_sections": [],
      "include_colab_link": true
    },
    "kernelspec": {
      "display_name": "Python 3",
      "name": "python3"
    },
    "language_info": {
      "name": "python"
    }
  },
  "cells": [
    {
      "cell_type": "markdown",
      "metadata": {
        "id": "view-in-github",
        "colab_type": "text"
      },
      "source": [
        "<a href=\"https://colab.research.google.com/github/pninav/Cycle_Gan/blob/main/StyleGan.ipynb\" target=\"_parent\"><img src=\"https://colab.research.google.com/assets/colab-badge.svg\" alt=\"Open In Colab\"/></a>"
      ]
    },
    {
      "cell_type": "markdown",
      "metadata": {
        "id": "DOx3jzwHWEnB"
      },
      "source": [
        "Mounting to google-drive"
      ]
    },
    {
      "cell_type": "code",
      "metadata": {
        "id": "uiBi0qHpWDWu"
      },
      "source": [
        "from google.colab import drive\n",
        "import os\n",
        "drive.mount('/content/Pnina/')\n",
        "os.chdir('/content/Pnina/MyDrive/')"
      ],
      "execution_count": null,
      "outputs": []
    },
    {
      "cell_type": "markdown",
      "metadata": {
        "id": "dGBUAGE42hnR"
      },
      "source": [
        "Delete Project folder for fresh start"
      ]
    },
    {
      "cell_type": "code",
      "metadata": {
        "id": "c_v7-5EQ2giO"
      },
      "source": [
        "import shutil\n",
        "shutil.rmtree('/content/Pnina/MyDrive/StyleGan_FewShot')"
      ],
      "execution_count": null,
      "outputs": []
    },
    {
      "cell_type": "markdown",
      "metadata": {
        "id": "5whlCxjRV3pB"
      },
      "source": [
        "Cloning CycleGan project and installing requirements"
      ]
    },
    {
      "cell_type": "code",
      "metadata": {
        "id": "_jYq2pVVWCgU"
      },
      "source": [
        "\n",
        "!git clone https://github.com/pninav/StyleGan_FewShot.git\n",
        "os.chdir('/content/Pnina/MyDrive/StyleGan_FewShot/')\n",
        "!pip install -r requirements.txt\n",
        "\n"
      ],
      "execution_count": null,
      "outputs": []
    },
    {
      "cell_type": "markdown",
      "metadata": {
        "id": "e4FzRfuOXpuw"
      },
      "source": [
        "Download Kaggle dataset"
      ]
    },
    {
      "cell_type": "code",
      "metadata": {
        "id": "GHSWXEjUrGU1"
      },
      "source": [
        "import os\n",
        "os.chdir('/content/Pnina/MyDrive/StyleGan_FewShot/')\n",
        "os.environ['KAGGLE_CONFIG_DIR'] = '/content/Pnina/MyDrive/StyleGan_FewShot/kaggle/'\n",
        "!mkdir -p kaggle_dataset\n",
        "os.chdir('/content/Pnina/MyDrive/StyleGan_FewShot/kaggle_dataset')\n",
        "!kaggle competitions download -c gan-getting-started "
      ],
      "execution_count": null,
      "outputs": []
    },
    {
      "cell_type": "code",
      "metadata": {
        "id": "B8h1H13xFfdp"
      },
      "source": [
        "os.chdir('/content/Pnina/MyDrive/StyleGan_FewShot/')"
      ],
      "execution_count": null,
      "outputs": []
    },
    {
      "cell_type": "code",
      "metadata": {
        "id": "FTijciZYRjpU"
      },
      "source": [
        "!python save_images_monet.py"
      ],
      "execution_count": null,
      "outputs": []
    },
    {
      "cell_type": "markdown",
      "metadata": {
        "id": "ad4B5JRQMF2d"
      },
      "source": [
        "View selected Monet files"
      ]
    },
    {
      "cell_type": "code",
      "metadata": {
        "id": "SE-Qu-P3L3Ul"
      },
      "source": [
        "from google.colab.patches import cv2_imshow\n",
        "import cv2\n",
        "from glob import glob\n",
        "for file in glob('/content/Pnina/MyDrive/StyleGan_FewShot/kaggle_dataset/monet_reduced/*.*'):\n",
        "  img = cv2.imread(file, cv2.IMREAD_UNCHANGED)\n",
        "  cv2_imshow(img)\n"
      ],
      "execution_count": null,
      "outputs": []
    },
    {
      "cell_type": "markdown",
      "metadata": {
        "id": "G1hYKPAAftk4"
      },
      "source": [
        "Download pretrained StyleGan"
      ]
    },
    {
      "cell_type": "code",
      "metadata": {
        "id": "qxbvPAZLhKo1"
      },
      "source": [
        "os.makedirs('./checkpoint',exist_ok=True)\n",
        "os.chdir('/content/Pnina/MyDrive/StyleGan_FewShot/checkpoint')\n"
      ],
      "execution_count": null,
      "outputs": []
    },
    {
      "cell_type": "code",
      "metadata": {
        "id": "HioArkajfv7e"
      },
      "source": [
        "!gdown --id 1QlXFPIOFzsJyjZ1AtfpnVhqW4Z0r8GLZ\n",
        "os.chdir('/content/Pnina/MyDrive/StyleGan_FewShot/')\n"
      ],
      "execution_count": null,
      "outputs": []
    },
    {
      "cell_type": "markdown",
      "metadata": {
        "id": "-J9yl2oxBX2F"
      },
      "source": [
        "Preparing Data"
      ]
    },
    {
      "cell_type": "code",
      "metadata": {
        "id": "GOVcB0hSteTK"
      },
      "source": [
        "os.makedirs('./dataset',exist_ok=True)\n",
        "!python prepare_data.py --out monet --dataset /content/Pnina/MyDrive/StyleGan_FewShot/kaggle_dataset/monet_reduced/\n"
      ],
      "execution_count": null,
      "outputs": []
    },
    {
      "cell_type": "code",
      "metadata": {
        "id": "YHRUQlCDyEWY"
      },
      "source": [
        "!python precompute_acts.py --dataset monet\n"
      ],
      "execution_count": null,
      "outputs": []
    },
    {
      "cell_type": "code",
      "metadata": {
        "id": "HAKHPkMGhF70"
      },
      "source": [
        "!python finetune.py --name monet --mixing --loss r1 --sched --dataset monet --freeze_D --feature_loc 3\n"
      ],
      "execution_count": null,
      "outputs": []
    }
  ]
}